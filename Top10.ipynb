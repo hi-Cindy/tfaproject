{
 "cells": [
  {
   "cell_type": "code",
   "execution_count": 1,
   "id": "739cdd1b",
   "metadata": {},
   "outputs": [],
   "source": [
    "import pandas as pd"
   ]
  },
  {
   "cell_type": "code",
   "execution_count": 2,
   "id": "09f70dfe",
   "metadata": {
    "scrolled": true
   },
   "outputs": [
    {
     "name": "stderr",
     "output_type": "stream",
     "text": [
      "/Users/JANEY/opt/anaconda3/lib/python3.8/site-packages/IPython/core/interactiveshell.py:3165: DtypeWarning: Columns (20,31,32) have mixed types.Specify dtype option on import or set low_memory=False.\n",
      "  has_raised = await self.run_ast_nodes(code_ast.body, cell_name,\n"
     ]
    }
   ],
   "source": [
    "data = pd.read_csv(\"311_Service_Requests_2020.csv\")\n",
    "df = pd.DataFrame(data)"
   ]
  },
  {
   "cell_type": "code",
   "execution_count": 3,
   "id": "bc5374ff",
   "metadata": {},
   "outputs": [
    {
     "data": {
      "text/plain": [
       "Noise - Residential            2952\n",
       "Noise - Street/Sidewalk        2128\n",
       "HEAT/HOT WATER                 1885\n",
       "Noise                          1131\n",
       "Illegal Parking                 792\n",
       "Noise - Vehicle                 787\n",
       "Non-Emergency Police Matter     773\n",
       "Rodent                          691\n",
       "Illegal Fireworks               672\n",
       "UNSANITARY CONDITION            565\n",
       "Name: Complaint Type, dtype: int64"
      ]
     },
     "execution_count": 3,
     "metadata": {},
     "output_type": "execute_result"
    }
   ],
   "source": [
    "myzip = float(\"10025\")\n",
    "target = df[df['Incident Zip'] == myzip]\n",
    "top10 = target['Complaint Type'].value_counts().head(10)\n",
    "top10"
   ]
  },
  {
   "cell_type": "code",
   "execution_count": null,
   "id": "5234b0a0",
   "metadata": {},
   "outputs": [],
   "source": []
  }
 ],
 "metadata": {
  "kernelspec": {
   "display_name": "Python 3",
   "language": "python",
   "name": "python3"
  },
  "language_info": {
   "codemirror_mode": {
    "name": "ipython",
    "version": 3
   },
   "file_extension": ".py",
   "mimetype": "text/x-python",
   "name": "python",
   "nbconvert_exporter": "python",
   "pygments_lexer": "ipython3",
   "version": "3.8.8"
  }
 },
 "nbformat": 4,
 "nbformat_minor": 5
}
