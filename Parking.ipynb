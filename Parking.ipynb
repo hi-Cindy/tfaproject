{
 "cells": [
  {
   "cell_type": "code",
   "execution_count": 1,
   "id": "1364bf19",
   "metadata": {},
   "outputs": [],
   "source": [
    "import numpy as np\n",
    "import pandas as pd"
   ]
  },
  {
   "cell_type": "code",
   "execution_count": 2,
   "id": "e4adfbb7",
   "metadata": {},
   "outputs": [
    {
     "name": "stderr",
     "output_type": "stream",
     "text": [
      "/Users/JANEY/opt/anaconda3/lib/python3.8/site-packages/IPython/core/interactiveshell.py:3165: DtypeWarning: Columns (20,31,32) have mixed types.Specify dtype option on import or set low_memory=False.\n",
      "  has_raised = await self.run_ast_nodes(code_ast.body, cell_name,\n"
     ]
    }
   ],
   "source": [
    "data = pd.read_csv(\"311_Service_Requests_2020.csv\")\n",
    "df = pd.DataFrame(data)"
   ]
  },
  {
   "cell_type": "code",
   "execution_count": 3,
   "id": "c1302cb2",
   "metadata": {
    "scrolled": true
   },
   "outputs": [
    {
     "data": {
      "text/html": [
       "<div>\n",
       "<style scoped>\n",
       "    .dataframe tbody tr th:only-of-type {\n",
       "        vertical-align: middle;\n",
       "    }\n",
       "\n",
       "    .dataframe tbody tr th {\n",
       "        vertical-align: top;\n",
       "    }\n",
       "\n",
       "    .dataframe thead th {\n",
       "        text-align: right;\n",
       "    }\n",
       "</style>\n",
       "<table border=\"1\" class=\"dataframe\">\n",
       "  <thead>\n",
       "    <tr style=\"text-align: right;\">\n",
       "      <th></th>\n",
       "      <th>Unique Key</th>\n",
       "      <th>Created Date</th>\n",
       "      <th>Closed Date</th>\n",
       "      <th>Agency</th>\n",
       "      <th>Agency Name</th>\n",
       "      <th>Complaint Type</th>\n",
       "      <th>Descriptor</th>\n",
       "      <th>Location Type</th>\n",
       "      <th>Incident Zip</th>\n",
       "      <th>Incident Address</th>\n",
       "      <th>...</th>\n",
       "      <th>Vehicle Type</th>\n",
       "      <th>Taxi Company Borough</th>\n",
       "      <th>Taxi Pick Up Location</th>\n",
       "      <th>Bridge Highway Name</th>\n",
       "      <th>Bridge Highway Direction</th>\n",
       "      <th>Road Ramp</th>\n",
       "      <th>Bridge Highway Segment</th>\n",
       "      <th>Latitude</th>\n",
       "      <th>Longitude</th>\n",
       "      <th>Location</th>\n",
       "    </tr>\n",
       "  </thead>\n",
       "  <tbody>\n",
       "    <tr>\n",
       "      <th>18</th>\n",
       "      <td>45279489</td>\n",
       "      <td>01/01/2020 12:04:47 AM</td>\n",
       "      <td>01/01/2020 04:22:13 AM</td>\n",
       "      <td>NYPD</td>\n",
       "      <td>New York City Police Department</td>\n",
       "      <td>Illegal Parking</td>\n",
       "      <td>Blocked Hydrant</td>\n",
       "      <td>Street/Sidewalk</td>\n",
       "      <td>11223.0</td>\n",
       "      <td>1906 WEST   13 STREET</td>\n",
       "      <td>...</td>\n",
       "      <td>NaN</td>\n",
       "      <td>NaN</td>\n",
       "      <td>NaN</td>\n",
       "      <td>NaN</td>\n",
       "      <td>NaN</td>\n",
       "      <td>NaN</td>\n",
       "      <td>NaN</td>\n",
       "      <td>40.599967</td>\n",
       "      <td>-73.984872</td>\n",
       "      <td>(40.599967258222144, -73.98487199397107)</td>\n",
       "    </tr>\n",
       "    <tr>\n",
       "      <th>32</th>\n",
       "      <td>45280049</td>\n",
       "      <td>01/01/2020 12:09:59 AM</td>\n",
       "      <td>01/01/2020 06:40:57 AM</td>\n",
       "      <td>NYPD</td>\n",
       "      <td>New York City Police Department</td>\n",
       "      <td>Illegal Parking</td>\n",
       "      <td>Blocked Hydrant</td>\n",
       "      <td>Street/Sidewalk</td>\n",
       "      <td>11217.0</td>\n",
       "      <td>484 STATE STREET</td>\n",
       "      <td>...</td>\n",
       "      <td>NaN</td>\n",
       "      <td>NaN</td>\n",
       "      <td>NaN</td>\n",
       "      <td>NaN</td>\n",
       "      <td>NaN</td>\n",
       "      <td>NaN</td>\n",
       "      <td>NaN</td>\n",
       "      <td>40.686293</td>\n",
       "      <td>-73.981160</td>\n",
       "      <td>(40.68629293677919, -73.98116016161326)</td>\n",
       "    </tr>\n",
       "    <tr>\n",
       "      <th>37</th>\n",
       "      <td>45281799</td>\n",
       "      <td>01/01/2020 12:10:56 AM</td>\n",
       "      <td>01/03/2020 03:28:49 AM</td>\n",
       "      <td>NYPD</td>\n",
       "      <td>New York City Police Department</td>\n",
       "      <td>Illegal Parking</td>\n",
       "      <td>Blocked Hydrant</td>\n",
       "      <td>Street/Sidewalk</td>\n",
       "      <td>10466.0</td>\n",
       "      <td>4327 WILDER AVENUE</td>\n",
       "      <td>...</td>\n",
       "      <td>NaN</td>\n",
       "      <td>NaN</td>\n",
       "      <td>NaN</td>\n",
       "      <td>NaN</td>\n",
       "      <td>NaN</td>\n",
       "      <td>NaN</td>\n",
       "      <td>NaN</td>\n",
       "      <td>40.897928</td>\n",
       "      <td>-73.843708</td>\n",
       "      <td>(40.89792803897644, -73.8437083217415)</td>\n",
       "    </tr>\n",
       "    <tr>\n",
       "      <th>46</th>\n",
       "      <td>45281904</td>\n",
       "      <td>01/01/2020 12:12:37 AM</td>\n",
       "      <td>01/01/2020 01:46:46 PM</td>\n",
       "      <td>NYPD</td>\n",
       "      <td>New York City Police Department</td>\n",
       "      <td>Illegal Parking</td>\n",
       "      <td>Blocked Hydrant</td>\n",
       "      <td>NaN</td>\n",
       "      <td>10470.0</td>\n",
       "      <td>221 EAST  237 STREET</td>\n",
       "      <td>...</td>\n",
       "      <td>NaN</td>\n",
       "      <td>NaN</td>\n",
       "      <td>NaN</td>\n",
       "      <td>NaN</td>\n",
       "      <td>NaN</td>\n",
       "      <td>NaN</td>\n",
       "      <td>NaN</td>\n",
       "      <td>40.898702</td>\n",
       "      <td>-73.869856</td>\n",
       "      <td>(40.8987015413494, -73.86985551710447)</td>\n",
       "    </tr>\n",
       "    <tr>\n",
       "      <th>56</th>\n",
       "      <td>45278396</td>\n",
       "      <td>01/01/2020 12:15:55 AM</td>\n",
       "      <td>01/01/2020 11:06:07 AM</td>\n",
       "      <td>NYPD</td>\n",
       "      <td>New York City Police Department</td>\n",
       "      <td>Illegal Parking</td>\n",
       "      <td>Blocked Hydrant</td>\n",
       "      <td>Street/Sidewalk</td>\n",
       "      <td>11378.0</td>\n",
       "      <td>60-17 59 ROAD</td>\n",
       "      <td>...</td>\n",
       "      <td>NaN</td>\n",
       "      <td>NaN</td>\n",
       "      <td>NaN</td>\n",
       "      <td>NaN</td>\n",
       "      <td>NaN</td>\n",
       "      <td>NaN</td>\n",
       "      <td>NaN</td>\n",
       "      <td>40.718183</td>\n",
       "      <td>-73.905658</td>\n",
       "      <td>(40.718182937426654, -73.90565831800562)</td>\n",
       "    </tr>\n",
       "  </tbody>\n",
       "</table>\n",
       "<p>5 rows × 41 columns</p>\n",
       "</div>"
      ],
      "text/plain": [
       "    Unique Key            Created Date             Closed Date Agency  \\\n",
       "18    45279489  01/01/2020 12:04:47 AM  01/01/2020 04:22:13 AM   NYPD   \n",
       "32    45280049  01/01/2020 12:09:59 AM  01/01/2020 06:40:57 AM   NYPD   \n",
       "37    45281799  01/01/2020 12:10:56 AM  01/03/2020 03:28:49 AM   NYPD   \n",
       "46    45281904  01/01/2020 12:12:37 AM  01/01/2020 01:46:46 PM   NYPD   \n",
       "56    45278396  01/01/2020 12:15:55 AM  01/01/2020 11:06:07 AM   NYPD   \n",
       "\n",
       "                        Agency Name   Complaint Type       Descriptor  \\\n",
       "18  New York City Police Department  Illegal Parking  Blocked Hydrant   \n",
       "32  New York City Police Department  Illegal Parking  Blocked Hydrant   \n",
       "37  New York City Police Department  Illegal Parking  Blocked Hydrant   \n",
       "46  New York City Police Department  Illegal Parking  Blocked Hydrant   \n",
       "56  New York City Police Department  Illegal Parking  Blocked Hydrant   \n",
       "\n",
       "      Location Type  Incident Zip       Incident Address  ... Vehicle Type  \\\n",
       "18  Street/Sidewalk       11223.0  1906 WEST   13 STREET  ...          NaN   \n",
       "32  Street/Sidewalk       11217.0       484 STATE STREET  ...          NaN   \n",
       "37  Street/Sidewalk       10466.0     4327 WILDER AVENUE  ...          NaN   \n",
       "46              NaN       10470.0   221 EAST  237 STREET  ...          NaN   \n",
       "56  Street/Sidewalk       11378.0          60-17 59 ROAD  ...          NaN   \n",
       "\n",
       "   Taxi Company Borough Taxi Pick Up Location Bridge Highway Name  \\\n",
       "18                  NaN                   NaN                 NaN   \n",
       "32                  NaN                   NaN                 NaN   \n",
       "37                  NaN                   NaN                 NaN   \n",
       "46                  NaN                   NaN                 NaN   \n",
       "56                  NaN                   NaN                 NaN   \n",
       "\n",
       "   Bridge Highway Direction Road Ramp Bridge Highway Segment   Latitude  \\\n",
       "18                      NaN       NaN                    NaN  40.599967   \n",
       "32                      NaN       NaN                    NaN  40.686293   \n",
       "37                      NaN       NaN                    NaN  40.897928   \n",
       "46                      NaN       NaN                    NaN  40.898702   \n",
       "56                      NaN       NaN                    NaN  40.718183   \n",
       "\n",
       "    Longitude                                  Location  \n",
       "18 -73.984872  (40.599967258222144, -73.98487199397107)  \n",
       "32 -73.981160   (40.68629293677919, -73.98116016161326)  \n",
       "37 -73.843708    (40.89792803897644, -73.8437083217415)  \n",
       "46 -73.869856    (40.8987015413494, -73.86985551710447)  \n",
       "56 -73.905658  (40.718182937426654, -73.90565831800562)  \n",
       "\n",
       "[5 rows x 41 columns]"
      ]
     },
     "execution_count": 3,
     "metadata": {},
     "output_type": "execute_result"
    }
   ],
   "source": [
    "df[df['Complaint Type'] == 'Illegal Parking'].head()"
   ]
  },
  {
   "cell_type": "code",
   "execution_count": 4,
   "id": "42f32c32",
   "metadata": {},
   "outputs": [
    {
     "data": {
      "text/plain": [
       "20978"
      ]
     },
     "execution_count": 4,
     "metadata": {},
     "output_type": "execute_result"
    }
   ],
   "source": [
    "df_zipcodeincidents = df[df['Incident Zip'] == float('10025')]\n",
    "zipcodeincidents = len(df_zipcodeincidents)\n",
    "zipcodeincidents # Total number of all incidents in 10025"
   ]
  },
  {
   "cell_type": "code",
   "execution_count": 5,
   "id": "60985dcc",
   "metadata": {},
   "outputs": [
    {
     "data": {
      "text/plain": [
       "792"
      ]
     },
     "execution_count": 5,
     "metadata": {},
     "output_type": "execute_result"
    }
   ],
   "source": [
    "df_zipcodeparking = df_zipcodeincidents[df_zipcodeincidents['Complaint Type'] == 'Illegal Parking']\n",
    "zipcodeparking = len(df_zipcodeparking)\n",
    "zipcodeparking # Total number of parking incidents in 10025"
   ]
  },
  {
   "cell_type": "code",
   "execution_count": 6,
   "id": "528289b5",
   "metadata": {},
   "outputs": [
    {
     "data": {
      "text/plain": [
       "2587316"
      ]
     },
     "execution_count": 6,
     "metadata": {},
     "output_type": "execute_result"
    }
   ],
   "source": [
    "globalincidents = len(df)\n",
    "globalincidents # Total number of all incidents across all zipcodes"
   ]
  },
  {
   "cell_type": "code",
   "execution_count": 7,
   "id": "b442319b",
   "metadata": {},
   "outputs": [
    {
     "data": {
      "text/plain": [
       "193721"
      ]
     },
     "execution_count": 7,
     "metadata": {},
     "output_type": "execute_result"
    }
   ],
   "source": [
    "df_globalparking = df[df['Complaint Type'] == 'Illegal Parking']\n",
    "globalparking = len(df_globalparking)\n",
    "globalparking"
   ]
  },
  {
   "cell_type": "code",
   "execution_count": 8,
   "id": "64e25616",
   "metadata": {},
   "outputs": [
    {
     "data": {
      "text/plain": [
       "2587316"
      ]
     },
     "execution_count": 8,
     "metadata": {},
     "output_type": "execute_result"
    }
   ],
   "source": [
    "globalincidents = len(df)\n",
    "globalincidents # Total number of parking incidents across all zipcodes"
   ]
  },
  {
   "cell_type": "code",
   "execution_count": 9,
   "id": "38353371",
   "metadata": {},
   "outputs": [
    {
     "data": {
      "text/plain": [
       "False"
      ]
     },
     "execution_count": 9,
     "metadata": {},
     "output_type": "execute_result"
    }
   ],
   "source": [
    "globalfraction = globalparking/globalincidents\n",
    "zipcodeparking = zipcodeparking/zipcodeincidents\n",
    "higher_parking_proportion = zipcodeparking > globalfraction\n",
    "higher_parking_proportion"
   ]
  }
 ],
 "metadata": {
  "kernelspec": {
   "display_name": "Python 3",
   "language": "python",
   "name": "python3"
  },
  "language_info": {
   "codemirror_mode": {
    "name": "ipython",
    "version": 3
   },
   "file_extension": ".py",
   "mimetype": "text/x-python",
   "name": "python",
   "nbconvert_exporter": "python",
   "pygments_lexer": "ipython3",
   "version": "3.8.8"
  }
 },
 "nbformat": 4,
 "nbformat_minor": 5
}
