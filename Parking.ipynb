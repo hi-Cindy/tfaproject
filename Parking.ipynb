{
 "cells": [
  {
   "cell_type": "code",
   "execution_count": 2,
   "metadata": {},
   "outputs": [],
   "source": [
    "import pandas as pd \n"
   ]
  },
  {
   "cell_type": "code",
   "execution_count": 3,
   "metadata": {},
   "outputs": [
    {
     "name": "stderr",
     "output_type": "stream",
     "text": [
      "/opt/anaconda3/lib/python3.8/site-packages/IPython/core/interactiveshell.py:3437: DtypeWarning: Columns (20,31,32) have mixed types.Specify dtype option on import or set low_memory=False.\n",
      "  exec(code_obj, self.user_global_ns, self.user_ns)\n"
     ]
    }
   ],
   "source": [
    "df= pd.read_csv(r'/Users/cindyshi/Downloads/4501 Tools for Analytics/311_Service_Requests_2020.csv')\n"
   ]
  },
  {
   "cell_type": "code",
   "execution_count": 4,
   "metadata": {},
   "outputs": [
    {
     "data": {
      "text/html": [
       "<div>\n",
       "<style scoped>\n",
       "    .dataframe tbody tr th:only-of-type {\n",
       "        vertical-align: middle;\n",
       "    }\n",
       "\n",
       "    .dataframe tbody tr th {\n",
       "        vertical-align: top;\n",
       "    }\n",
       "\n",
       "    .dataframe thead th {\n",
       "        text-align: right;\n",
       "    }\n",
       "</style>\n",
       "<table border=\"1\" class=\"dataframe\">\n",
       "  <thead>\n",
       "    <tr style=\"text-align: right;\">\n",
       "      <th></th>\n",
       "      <th>Unique Key</th>\n",
       "      <th>Created Date</th>\n",
       "      <th>Closed Date</th>\n",
       "      <th>Agency</th>\n",
       "      <th>Agency Name</th>\n",
       "      <th>Complaint Type</th>\n",
       "      <th>Descriptor</th>\n",
       "      <th>Location Type</th>\n",
       "      <th>Incident Zip</th>\n",
       "      <th>Incident Address</th>\n",
       "      <th>...</th>\n",
       "      <th>Vehicle Type</th>\n",
       "      <th>Taxi Company Borough</th>\n",
       "      <th>Taxi Pick Up Location</th>\n",
       "      <th>Bridge Highway Name</th>\n",
       "      <th>Bridge Highway Direction</th>\n",
       "      <th>Road Ramp</th>\n",
       "      <th>Bridge Highway Segment</th>\n",
       "      <th>Latitude</th>\n",
       "      <th>Longitude</th>\n",
       "      <th>Location</th>\n",
       "    </tr>\n",
       "  </thead>\n",
       "  <tbody>\n",
       "    <tr>\n",
       "      <th>0</th>\n",
       "      <td>45285347</td>\n",
       "      <td>01/01/2020 12:00:00 AM</td>\n",
       "      <td>01/10/2020 12:00:01 AM</td>\n",
       "      <td>DOHMH</td>\n",
       "      <td>Department of Health and Mental Hygiene</td>\n",
       "      <td>Food Poisoning</td>\n",
       "      <td>3 or More</td>\n",
       "      <td>Restaurant/Bar/Deli/Bakery</td>\n",
       "      <td>11229.0</td>\n",
       "      <td>3442 NOSTRAND AVENUE</td>\n",
       "      <td>...</td>\n",
       "      <td>NaN</td>\n",
       "      <td>NaN</td>\n",
       "      <td>NaN</td>\n",
       "      <td>NaN</td>\n",
       "      <td>NaN</td>\n",
       "      <td>NaN</td>\n",
       "      <td>NaN</td>\n",
       "      <td>40.600129</td>\n",
       "      <td>-73.941843</td>\n",
       "      <td>(40.6001292057807, -73.94184291675883)</td>\n",
       "    </tr>\n",
       "    <tr>\n",
       "      <th>1</th>\n",
       "      <td>45285651</td>\n",
       "      <td>01/01/2020 12:00:00 AM</td>\n",
       "      <td>01/02/2020 12:00:01 AM</td>\n",
       "      <td>DOHMH</td>\n",
       "      <td>Department of Health and Mental Hygiene</td>\n",
       "      <td>Food Poisoning</td>\n",
       "      <td>1 or 2</td>\n",
       "      <td>Restaurant/Bar/Deli/Bakery</td>\n",
       "      <td>10458.0</td>\n",
       "      <td>2701 DECATUR AVENUE</td>\n",
       "      <td>...</td>\n",
       "      <td>NaN</td>\n",
       "      <td>NaN</td>\n",
       "      <td>NaN</td>\n",
       "      <td>NaN</td>\n",
       "      <td>NaN</td>\n",
       "      <td>NaN</td>\n",
       "      <td>NaN</td>\n",
       "      <td>40.864866</td>\n",
       "      <td>-73.888783</td>\n",
       "      <td>(40.86486556770799, -73.88878325729915)</td>\n",
       "    </tr>\n",
       "    <tr>\n",
       "      <th>2</th>\n",
       "      <td>45285821</td>\n",
       "      <td>01/01/2020 12:00:00 AM</td>\n",
       "      <td>01/02/2020 09:50:09 AM</td>\n",
       "      <td>DOHMH</td>\n",
       "      <td>Department of Health and Mental Hygiene</td>\n",
       "      <td>Food Poisoning</td>\n",
       "      <td>1 or 2</td>\n",
       "      <td>Other (Explain Below)</td>\n",
       "      <td>11203.0</td>\n",
       "      <td>5707 CHURCH AVENUE</td>\n",
       "      <td>...</td>\n",
       "      <td>NaN</td>\n",
       "      <td>NaN</td>\n",
       "      <td>NaN</td>\n",
       "      <td>NaN</td>\n",
       "      <td>NaN</td>\n",
       "      <td>NaN</td>\n",
       "      <td>NaN</td>\n",
       "      <td>40.652536</td>\n",
       "      <td>-73.923540</td>\n",
       "      <td>(40.65253575905768, -73.92353994017134)</td>\n",
       "    </tr>\n",
       "    <tr>\n",
       "      <th>3</th>\n",
       "      <td>45287907</td>\n",
       "      <td>01/01/2020 12:00:00 AM</td>\n",
       "      <td>01/02/2020 12:00:01 AM</td>\n",
       "      <td>DOHMH</td>\n",
       "      <td>Department of Health and Mental Hygiene</td>\n",
       "      <td>Food Poisoning</td>\n",
       "      <td>3 or More</td>\n",
       "      <td>Restaurant/Bar/Deli/Bakery</td>\n",
       "      <td>11214.0</td>\n",
       "      <td>1602 SHORE PARKWAY</td>\n",
       "      <td>...</td>\n",
       "      <td>NaN</td>\n",
       "      <td>NaN</td>\n",
       "      <td>NaN</td>\n",
       "      <td>NaN</td>\n",
       "      <td>NaN</td>\n",
       "      <td>NaN</td>\n",
       "      <td>NaN</td>\n",
       "      <td>40.595653</td>\n",
       "      <td>-74.000173</td>\n",
       "      <td>(40.59565343138651, -74.00017283917487)</td>\n",
       "    </tr>\n",
       "    <tr>\n",
       "      <th>4</th>\n",
       "      <td>45288240</td>\n",
       "      <td>01/01/2020 12:00:00 AM</td>\n",
       "      <td>01/02/2020 12:00:01 AM</td>\n",
       "      <td>DOHMH</td>\n",
       "      <td>Department of Health and Mental Hygiene</td>\n",
       "      <td>Food Poisoning</td>\n",
       "      <td>1 or 2</td>\n",
       "      <td>Restaurant/Bar/Deli/Bakery</td>\n",
       "      <td>11385.0</td>\n",
       "      <td>1717 CORNELIA STREET</td>\n",
       "      <td>...</td>\n",
       "      <td>NaN</td>\n",
       "      <td>NaN</td>\n",
       "      <td>NaN</td>\n",
       "      <td>NaN</td>\n",
       "      <td>NaN</td>\n",
       "      <td>NaN</td>\n",
       "      <td>NaN</td>\n",
       "      <td>40.700366</td>\n",
       "      <td>-73.905438</td>\n",
       "      <td>(40.700366489799876, -73.90543829006366)</td>\n",
       "    </tr>\n",
       "  </tbody>\n",
       "</table>\n",
       "<p>5 rows × 41 columns</p>\n",
       "</div>"
      ],
      "text/plain": [
       "   Unique Key            Created Date             Closed Date Agency  \\\n",
       "0    45285347  01/01/2020 12:00:00 AM  01/10/2020 12:00:01 AM  DOHMH   \n",
       "1    45285651  01/01/2020 12:00:00 AM  01/02/2020 12:00:01 AM  DOHMH   \n",
       "2    45285821  01/01/2020 12:00:00 AM  01/02/2020 09:50:09 AM  DOHMH   \n",
       "3    45287907  01/01/2020 12:00:00 AM  01/02/2020 12:00:01 AM  DOHMH   \n",
       "4    45288240  01/01/2020 12:00:00 AM  01/02/2020 12:00:01 AM  DOHMH   \n",
       "\n",
       "                               Agency Name  Complaint Type Descriptor  \\\n",
       "0  Department of Health and Mental Hygiene  Food Poisoning  3 or More   \n",
       "1  Department of Health and Mental Hygiene  Food Poisoning     1 or 2   \n",
       "2  Department of Health and Mental Hygiene  Food Poisoning     1 or 2   \n",
       "3  Department of Health and Mental Hygiene  Food Poisoning  3 or More   \n",
       "4  Department of Health and Mental Hygiene  Food Poisoning     1 or 2   \n",
       "\n",
       "                Location Type  Incident Zip      Incident Address  ...  \\\n",
       "0  Restaurant/Bar/Deli/Bakery       11229.0  3442 NOSTRAND AVENUE  ...   \n",
       "1  Restaurant/Bar/Deli/Bakery       10458.0   2701 DECATUR AVENUE  ...   \n",
       "2       Other (Explain Below)       11203.0    5707 CHURCH AVENUE  ...   \n",
       "3  Restaurant/Bar/Deli/Bakery       11214.0    1602 SHORE PARKWAY  ...   \n",
       "4  Restaurant/Bar/Deli/Bakery       11385.0  1717 CORNELIA STREET  ...   \n",
       "\n",
       "  Vehicle Type Taxi Company Borough Taxi Pick Up Location Bridge Highway Name  \\\n",
       "0          NaN                  NaN                   NaN                 NaN   \n",
       "1          NaN                  NaN                   NaN                 NaN   \n",
       "2          NaN                  NaN                   NaN                 NaN   \n",
       "3          NaN                  NaN                   NaN                 NaN   \n",
       "4          NaN                  NaN                   NaN                 NaN   \n",
       "\n",
       "  Bridge Highway Direction Road Ramp Bridge Highway Segment   Latitude  \\\n",
       "0                      NaN       NaN                    NaN  40.600129   \n",
       "1                      NaN       NaN                    NaN  40.864866   \n",
       "2                      NaN       NaN                    NaN  40.652536   \n",
       "3                      NaN       NaN                    NaN  40.595653   \n",
       "4                      NaN       NaN                    NaN  40.700366   \n",
       "\n",
       "   Longitude                                  Location  \n",
       "0 -73.941843    (40.6001292057807, -73.94184291675883)  \n",
       "1 -73.888783   (40.86486556770799, -73.88878325729915)  \n",
       "2 -73.923540   (40.65253575905768, -73.92353994017134)  \n",
       "3 -74.000173   (40.59565343138651, -74.00017283917487)  \n",
       "4 -73.905438  (40.700366489799876, -73.90543829006366)  \n",
       "\n",
       "[5 rows x 41 columns]"
      ]
     },
     "execution_count": 4,
     "metadata": {},
     "output_type": "execute_result"
    }
   ],
   "source": [
    "df.head()"
   ]
  },
  {
   "cell_type": "code",
   "execution_count": 7,
   "metadata": {},
   "outputs": [
    {
     "data": {
      "text/plain": [
       "Noise - Residential        406050\n",
       "Noise - Street/Sidewalk    206541\n",
       "Illegal Parking            193721\n",
       "HEAT/HOT WATER             164071\n",
       "Blocked Driveway           116377\n",
       "                            ...  \n",
       "DEP Sidewalk Condition          1\n",
       "Trans Fat                       1\n",
       "Facades                         1\n",
       "Tanning                         1\n",
       "SNW                             1\n",
       "Name: Complaint Type, Length: 185, dtype: int64"
      ]
     },
     "execution_count": 7,
     "metadata": {},
     "output_type": "execute_result"
    }
   ],
   "source": [
    "df['Complaint Type'].value_counts()\n",
    "\n",
    "## we see that illegal parking rank the 3rd here"
   ]
  },
  {
   "cell_type": "code",
   "execution_count": 14,
   "metadata": {},
   "outputs": [
    {
     "name": "stdout",
     "output_type": "stream",
     "text": [
      "1118\n"
     ]
    }
   ],
   "source": [
    "# Q1: compute the total number of parking incidents in your ZIP\n",
    "df_zip= df[df['Incident Zip']==float(10027)]\n",
    "# df_zip.head()\n",
    "df_zip_parking=df_zip[df_zip['Complaint Type']=='Illegal Parking']\n",
    "print(len(df_zip_parking.index))\n",
    "\n",
    "## so there are 1118 incidents in my zip code area"
   ]
  },
  {
   "cell_type": "code",
   "execution_count": 15,
   "metadata": {},
   "outputs": [
    {
     "name": "stdout",
     "output_type": "stream",
     "text": [
      "21470\n"
     ]
    }
   ],
   "source": [
    "# Q2: total number of all incidents in my ZIP\n",
    "print(len(df_zip.index))\n",
    "\n",
    "## total number of all incidents in 10027 is 21470"
   ]
  },
  {
   "cell_type": "code",
   "execution_count": 26,
   "metadata": {},
   "outputs": [
    {
     "data": {
      "text/plain": [
       "2587316"
      ]
     },
     "execution_count": 26,
     "metadata": {},
     "output_type": "execute_result"
    }
   ],
   "source": [
    "# Q3: total number of all incidents \n",
    "len(df.index)"
   ]
  },
  {
   "cell_type": "code",
   "execution_count": 27,
   "metadata": {},
   "outputs": [
    {
     "data": {
      "text/plain": [
       "193721"
      ]
     },
     "execution_count": 27,
     "metadata": {},
     "output_type": "execute_result"
    }
   ],
   "source": [
    "# Q4: total number of all illegal parking\n",
    "df_parking=df[df['Complaint Type']=='Illegal Parking']\n",
    "len(df_parking.index)"
   ]
  },
  {
   "cell_type": "code",
   "execution_count": 29,
   "metadata": {},
   "outputs": [
    {
     "data": {
      "text/plain": [
       "False"
      ]
     },
     "execution_count": 29,
     "metadata": {},
     "output_type": "execute_result"
    }
   ],
   "source": [
    "# The faction\n",
    "#  is this fraction greater than or smaller than the total fraction of parking incidents across all ZIP codes?\n",
    "my_fraction= len(df_zip_parking.index)/len(df_zip.index)\n",
    "avg_fraction=len(df_parking.index)/len(df.index)\n",
    "\n",
    "def which_is_higher():\n",
    "    if my_fraction> avg_fraction:\n",
    "        higher_parking_proportion=True\n",
    "    else:\n",
    "        higher_parking_proportion=False\n",
    "    return higher_parking_proportion\n",
    "\n",
    "which_is_higher()\n",
    "\n",
    "# Your answer should be in the form of a single bool called `higher_parking_proportion` which is True \n",
    "# if your ZIP contains a higher proportion of parking incidents than the global value, and False otherwise."
   ]
  },
  {
   "cell_type": "code",
   "execution_count": null,
   "metadata": {},
   "outputs": [],
   "source": []
  }
 ],
 "metadata": {
  "interpreter": {
   "hash": "40d3a090f54c6569ab1632332b64b2c03c39dcf918b08424e98f38b5ae0af88f"
  },
  "kernelspec": {
   "display_name": "Python 3.8.8 64-bit ('base': conda)",
   "language": "python",
   "name": "python3"
  },
  "language_info": {
   "codemirror_mode": {
    "name": "ipython",
    "version": 3
   },
   "file_extension": ".py",
   "mimetype": "text/x-python",
   "name": "python",
   "nbconvert_exporter": "python",
   "pygments_lexer": "ipython3",
   "version": "3.8.8"
  },
  "orig_nbformat": 4
 },
 "nbformat": 4,
 "nbformat_minor": 2
}
